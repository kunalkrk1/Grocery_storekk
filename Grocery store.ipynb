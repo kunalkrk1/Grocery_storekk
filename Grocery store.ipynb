{
 "cells": [
  {
   "cell_type": "code",
   "execution_count": 1,
   "id": "a1139faf",
   "metadata": {},
   "outputs": [],
   "source": [
    "#grocery store\n",
    "# person should be able to input items and he should be able to get the total cost."
   ]
  },
  {
   "cell_type": "code",
   "execution_count": 2,
   "id": "d07185a6",
   "metadata": {},
   "outputs": [],
   "source": [
    "stock=(\"Mango\",\"Banana\",\"Grapes\",\"Kiwi\",\"Lichi\")"
   ]
  },
  {
   "cell_type": "code",
   "execution_count": 3,
   "id": "3776e51a",
   "metadata": {},
   "outputs": [],
   "source": [
    "prices=(30,60,20,50,40)"
   ]
  },
  {
   "cell_type": "code",
   "execution_count": 4,
   "id": "b4bc1678",
   "metadata": {},
   "outputs": [],
   "source": [
    "quantity=[10,20,30,40]"
   ]
  },
  {
   "cell_type": "code",
   "execution_count": 5,
   "id": "6a71d759",
   "metadata": {},
   "outputs": [],
   "source": [
    "stock_price={}\n",
    "for s,q in zip(stock,prices):\n",
    "    stock_price[s]=q"
   ]
  },
  {
   "cell_type": "code",
   "execution_count": 6,
   "id": "7ea09fd3",
   "metadata": {},
   "outputs": [],
   "source": [
    "supplier_quan = [100,200,300,400]"
   ]
  },
  {
   "cell_type": "code",
   "execution_count": 7,
   "id": "f1aba7da",
   "metadata": {},
   "outputs": [],
   "source": [
    "stock_quan={}\n",
    "for s,q in zip(stock,quantity):\n",
    "    stock_quan[s]=q"
   ]
  },
  {
   "cell_type": "code",
   "execution_count": 8,
   "id": "060585c4",
   "metadata": {},
   "outputs": [],
   "source": [
    "supplier_stock_quan={}\n",
    "for r,t in zip(stock,supplier_quan):\n",
    "    supplier_stock_quan[r]=t"
   ]
  },
  {
   "cell_type": "code",
   "execution_count": 9,
   "id": "8ca5e0c1",
   "metadata": {},
   "outputs": [
    {
     "data": {
      "text/plain": [
       "{'Mango': 10, 'Banana': 20, 'Grapes': 30, 'Kiwi': 40}"
      ]
     },
     "execution_count": 9,
     "metadata": {},
     "output_type": "execute_result"
    }
   ],
   "source": [
    "stock_quan"
   ]
  },
  {
   "cell_type": "code",
   "execution_count": 10,
   "id": "ff48f18f",
   "metadata": {},
   "outputs": [
    {
     "data": {
      "text/plain": [
       "{'Mango': 100, 'Banana': 200, 'Grapes': 300, 'Kiwi': 400}"
      ]
     },
     "execution_count": 10,
     "metadata": {},
     "output_type": "execute_result"
    }
   ],
   "source": [
    "supplier_stock_quan"
   ]
  },
  {
   "cell_type": "markdown",
   "id": "87adba62",
   "metadata": {},
   "source": [
    "Function to enter number of items"
   ]
  },
  {
   "cell_type": "code",
   "execution_count": 11,
   "id": "ccb120ba",
   "metadata": {},
   "outputs": [],
   "source": [
    "def input_norders():\n",
    "    number_of_items=input(\"Enter number of items: \")\n",
    "\n",
    "    while number_of_items.isnumeric()==False:\n",
    "        print(\"You have entered an invalid number\")\n",
    "        number_of_items=input(\"Enter number of items: \")\n",
    "        \n",
    "# the number of items should strictly be numeric\n",
    "\n",
    "    number_of_items=int(number_of_items)\n",
    "    return number_of_items\n"
   ]
  },
  {
   "cell_type": "code",
   "execution_count": 12,
   "id": "6b2a2b44",
   "metadata": {},
   "outputs": [
    {
     "name": "stdout",
     "output_type": "stream",
     "text": [
      "Enter number of items: 2\n"
     ]
    }
   ],
   "source": [
    "number_of_items=input_norders()"
   ]
  },
  {
   "cell_type": "code",
   "execution_count": 13,
   "id": "09abba52",
   "metadata": {},
   "outputs": [],
   "source": [
    "# 20 Mango\n",
    "# 10 stock --> 100\n",
    "# 10 supp ---> 110\n",
    "# 11 \n"
   ]
  },
  {
   "cell_type": "markdown",
   "id": "89e054bb",
   "metadata": {},
   "source": [
    "Function to accept the input if the characters match 30% to the stock names in the list"
   ]
  },
  {
   "cell_type": "code",
   "execution_count": 14,
   "id": "036b6e12",
   "metadata": {},
   "outputs": [],
   "source": [
    "def similar_orders(stock,order):    \n",
    "    \n",
    "    for item in stock:\n",
    "        count=0\n",
    "        for i,j in zip(item,order):\n",
    "            if i==j:\n",
    "                count+=1\n",
    "        if (count*100)/len(item)>30:    #if the input characters match 30% to the order names in the list, accept the input\n",
    "            return item\n",
    "            break\n",
    "            \n",
    "    return order"
   ]
  },
  {
   "cell_type": "markdown",
   "id": "4aff401e",
   "metadata": {},
   "source": [
    "Function to create a cart list of the input orders along with their quantity"
   ]
  },
  {
   "cell_type": "code",
   "execution_count": 15,
   "id": "16addc31",
   "metadata": {},
   "outputs": [],
   "source": [
    "def numeric(quantity,order):\n",
    "    while quantity.isnumeric()==False:\n",
    "                print(\"You have entered an invalid number\")\n",
    "                quantity=input(f\"Enter the Quantity of {order}: \")\n",
    "\n",
    "    quantity=int(quantity)\n",
    "    return quantity"
   ]
  },
  {
   "cell_type": "code",
   "execution_count": 16,
   "id": "4ebce597",
   "metadata": {},
   "outputs": [],
   "source": [
    "def input_orders(number_of_items):\n",
    "    cart_detailed={}\n",
    "    cart={}\n",
    "    for i in range(1,number_of_items+1):\n",
    "        order=input(f\"Enter order {i}: \").title()  #Converts all input names to title format       \n",
    "        \n",
    "        order=similar_orders(stock,order)\n",
    "        \n",
    "        while order not in stock:\n",
    "            print(\"The order you have entered is not in stock. Please enter a valid item\")\n",
    "            order=input(f\"Enter order {i}: \")\n",
    "            order=similar_orders(stock,order)\n",
    "                 \n",
    " # the number of items should strictly be numeric    \n",
    "\n",
    "        quantity=input(f\"Enter the Quantity of {order}: \")\n",
    "        quantity=numeric(quantity,order)\n",
    "        new_quantity=quantity\n",
    "    \n",
    "######################################################################        \n",
    "            \n",
    "        while quantity>stock_quan[order]:\n",
    "            \n",
    "            \n",
    "            \n",
    "            print(f\"The item you have entered has only {stock_quan[order]} in stock, you have entered {quantity}\")\n",
    "            choice=input(f\"Would you like to get the item from supplier directly at a higher cost? Y?N\")\n",
    "            \n",
    "            if choice==\"Y\":\n",
    "                stock_order_quant=quantity-stock_quan[order]\n",
    "                print(f\"From the order quantity of {quantity}, {stock_quan[order]} are being taken from the stock\")\n",
    "                print(f\"Rest of the {stock_order_quant} will be bought from supplier\" )\n",
    "                \n",
    "                print(f\"{stock_order_quant} will be taken from supplier who has {supplier_stock_quan[order]} in his stock\")\n",
    "                \n",
    "                while stock_order_quant > supplier_stock_quan[order]:\n",
    "                    print(f\"The order quantity placed by you is not in our stock, please enter quantity<={supplier_stock_quan}\")\n",
    "                    stock_order_quant=input(f\"Enter the Quantity of {order}: \")\n",
    "                    \n",
    "                    stock_order_quant=numeric(stock_order_quant,order)\n",
    "                new_quantity=stock_quan[order]+(stock_order_quant*(stock_price[order]*1.1))/stock_price[order]\n",
    "                \n",
    "                quantity=stock_quan[order] \n",
    "\n",
    "                supplier_stock_quan[order]-=stock_order_quant\n",
    "                \n",
    "                print(new_quantity)\n",
    "                \n",
    "            else:\n",
    "                \n",
    "                while quantity>stock_quan[order]:\n",
    "                    quantity=input(f\"Enter the Quantity of {order}: \")\n",
    "                    quantity=numeric(quantity)\n",
    "                \n",
    "                new_quantity=quantity\n",
    "                    \n",
    "                    \n",
    "# #######################################################################            \n",
    "        \n",
    "           \n",
    "\n",
    "# #code=0\n",
    "#             if confirm_surc==\"Y\":\n",
    "#                 supplier_stock_quan[order]-=quantity\n",
    "#                 for item in temp.keys():\n",
    "#                     if item in code:\n",
    "#                         temp[item]=temp[item]*1.1\n",
    "\n",
    "####################################################################33333        \n",
    "        stock_quan[order]-=quantity\n",
    "        \n",
    "        if order not in cart.keys():\n",
    "            cart[order]=new_quantity\n",
    "        else:\n",
    "            cart[order]+=new_quantity\n",
    "            \n",
    "    return cart"
   ]
  },
  {
   "cell_type": "code",
   "execution_count": 17,
   "id": "fd061029",
   "metadata": {},
   "outputs": [
    {
     "data": {
      "text/plain": [
       "98.0"
      ]
     },
     "execution_count": 17,
     "metadata": {},
     "output_type": "execute_result"
    }
   ],
   "source": [
    "10+(80*(30*1.1))/30\n"
   ]
  },
  {
   "cell_type": "code",
   "execution_count": 18,
   "id": "d22bf792",
   "metadata": {},
   "outputs": [
    {
     "name": "stdout",
     "output_type": "stream",
     "text": [
      "Enter order 1: Mango\n",
      "Enter the Quantity of Mango: 90\n",
      "The item you have entered has only 10 in stock, you have entered 90\n",
      "Would you like to get the item from supplier directly at a higher cost? Y?NY\n",
      "From the order quantity of 90, 10 are being taken from the stock\n",
      "Rest of the 80 will be bought from supplier\n",
      "80 will be taken from supplier who has 100 in his stock\n",
      "98.0\n",
      "Enter order 2: Grapes\n",
      "Enter the Quantity of Grapes: 120\n",
      "The item you have entered has only 30 in stock, you have entered 120\n",
      "Would you like to get the item from supplier directly at a higher cost? Y?NY\n",
      "From the order quantity of 120, 30 are being taken from the stock\n",
      "Rest of the 90 will be bought from supplier\n",
      "90 will be taken from supplier who has 300 in his stock\n",
      "129.0\n"
     ]
    }
   ],
   "source": [
    "cart=input_orders(number_of_items)"
   ]
  },
  {
   "cell_type": "code",
   "execution_count": 19,
   "id": "aad9a55d",
   "metadata": {},
   "outputs": [
    {
     "data": {
      "text/plain": [
       "{'Mango': 98.0, 'Grapes': 129.0}"
      ]
     },
     "execution_count": 19,
     "metadata": {},
     "output_type": "execute_result"
    }
   ],
   "source": [
    "cart"
   ]
  },
  {
   "cell_type": "markdown",
   "id": "40a887e5",
   "metadata": {},
   "source": [
    "Function to calculate the total price of the items"
   ]
  },
  {
   "cell_type": "code",
   "execution_count": 20,
   "id": "4b2bd01d",
   "metadata": {},
   "outputs": [],
   "source": [
    "def total_price(cart,stock,prices):\n",
    "    temp={}\n",
    "    total=0\n",
    "    for index,value in enumerate(stock):\n",
    "        if value in cart.keys():\n",
    "            total=total+(prices[index]*cart[value])\n",
    "            temp[value]=prices[index]*cart[value]\n",
    "    print(f\"total price for the order is {total}\")\n",
    "    return total,temp\n",
    "    \n",
    "    "
   ]
  },
  {
   "cell_type": "code",
   "execution_count": 21,
   "id": "6f1a619d",
   "metadata": {},
   "outputs": [
    {
     "name": "stdout",
     "output_type": "stream",
     "text": [
      "total price for the order is 5520.0\n"
     ]
    }
   ],
   "source": [
    "total,cart =total_price(cart,stock,prices)"
   ]
  },
  {
   "cell_type": "code",
   "execution_count": null,
   "id": "6929c166",
   "metadata": {},
   "outputs": [],
   "source": []
  },
  {
   "cell_type": "code",
   "execution_count": 22,
   "id": "daa6ec18",
   "metadata": {},
   "outputs": [],
   "source": [
    "temp=cart.copy()"
   ]
  },
  {
   "cell_type": "code",
   "execution_count": 25,
   "id": "82d35eed",
   "metadata": {},
   "outputs": [
    {
     "name": "stdout",
     "output_type": "stream",
     "text": [
      "Do you have a coupon code?.Please confirm using Y/N:N\n",
      "you cart is: {'Mango': 2940.0, 'Grapes': 2580.0}\n",
      "----------------------------------------------------------------------------------------------------\n",
      "total price for your cart is: 5520.0$\n",
      "What is the payment type would you like to use? {Debit:D,Credit:C,Upi:U,Net Banking:N}C\n",
      "you are paying 5520.0 using Credit. Please confirm using Y/N:Y\n",
      "your purchase is successful\n"
     ]
    }
   ],
   "source": [
    "coupon =(\"Mango10\",\"Banana10\",\"Grapes10\",\"Kiwi10\",\"Lichi10\")\n",
    "coupon_code = input(f\"Do you have a coupon code?.Please confirm using Y/N:\")\n",
    "\n",
    "#code=0\n",
    "if coupon_code==\"Y\":\n",
    "    code=input(f\"Please type your coupon code: \")\n",
    "    \n",
    "    for item in temp.keys():\n",
    "        if item in code:\n",
    "            temp[item]=temp[item]*0.9\n",
    "    \n",
    "\n",
    "total=sum(temp.values())\n",
    "billing(temp,total)\n"
   ]
  },
  {
   "cell_type": "markdown",
   "id": "0d8ddac0",
   "metadata": {},
   "source": [
    "Confirm payment"
   ]
  },
  {
   "cell_type": "code",
   "execution_count": 24,
   "id": "e81fa276",
   "metadata": {},
   "outputs": [],
   "source": [
    "def billing(cart,total):\n",
    "    print(f\"you cart is: {cart}\")\n",
    "    print(\"-\" * 100)\n",
    "    print(f\"total price for your cart is: {total}$\")\n",
    "    payment_type=input(\"What is the payment type would you like to use? {Debit:D,Credit:C,Upi:U,Net Banking:N}\")\n",
    "    types={\"D\":\"Debit\",\"C\":\"Credit\",\"U\":\"Upi\",\"N\":\"Net Banking\"}\n",
    "    payment=input(f\"you are paying {total} using {types[payment_type]}. Please confirm using Y/N:\")\n",
    "    if payment==\"Y\":\n",
    "        print(\"your purchase is successful\")\n",
    "\n",
    "    else:\n",
    "        print(\"your purchase is not successful\")\n",
    "    "
   ]
  },
  {
   "cell_type": "code",
   "execution_count": 26,
   "id": "62707b61",
   "metadata": {},
   "outputs": [
    {
     "data": {
      "text/plain": [
       "{'Mango': 2940.0, 'Grapes': 2580.0}"
      ]
     },
     "execution_count": 26,
     "metadata": {},
     "output_type": "execute_result"
    }
   ],
   "source": [
    "cart"
   ]
  },
  {
   "cell_type": "code",
   "execution_count": null,
   "id": "c0be6a44",
   "metadata": {},
   "outputs": [],
   "source": [
    "total"
   ]
  },
  {
   "cell_type": "code",
   "execution_count": null,
   "id": "c2c8239f",
   "metadata": {},
   "outputs": [],
   "source": [
    "number=input_norders()"
   ]
  },
  {
   "cell_type": "code",
   "execution_count": null,
   "id": "554be27c",
   "metadata": {},
   "outputs": [],
   "source": [
    "orders=input_orders(number)"
   ]
  },
  {
   "cell_type": "code",
   "execution_count": null,
   "id": "1a1e67c3",
   "metadata": {},
   "outputs": [],
   "source": [
    "total=total_price(orders,stock,prices)"
   ]
  },
  {
   "cell_type": "code",
   "execution_count": null,
   "id": "cb1bfc8a",
   "metadata": {},
   "outputs": [],
   "source": [
    "\"king\".title()"
   ]
  },
  {
   "cell_type": "code",
   "execution_count": null,
   "id": "454613df",
   "metadata": {},
   "outputs": [],
   "source": [
    "orders=[\"grape\",\"mang\"]"
   ]
  },
  {
   "cell_type": "code",
   "execution_count": null,
   "id": "bbeab0fb",
   "metadata": {},
   "outputs": [],
   "source": [
    "\n",
    "        \n",
    "        \n",
    "    \n",
    "        \n",
    "            \n",
    "            \n",
    "        \n",
    "       "
   ]
  },
  {
   "cell_type": "code",
   "execution_count": null,
   "id": "446dcc23",
   "metadata": {},
   "outputs": [],
   "source": [
    "ordes"
   ]
  },
  {
   "cell_type": "code",
   "execution_count": null,
   "id": "526c738d",
   "metadata": {},
   "outputs": [],
   "source": [
    "similar_orders(stock,\"grape\")"
   ]
  },
  {
   "cell_type": "code",
   "execution_count": null,
   "id": "eaf1dae4",
   "metadata": {},
   "outputs": [],
   "source": []
  }
 ],
 "metadata": {
  "kernelspec": {
   "display_name": "Python 3 (ipykernel)",
   "language": "python",
   "name": "python3"
  },
  "language_info": {
   "codemirror_mode": {
    "name": "ipython",
    "version": 3
   },
   "file_extension": ".py",
   "mimetype": "text/x-python",
   "name": "python",
   "nbconvert_exporter": "python",
   "pygments_lexer": "ipython3",
   "version": "3.9.7"
  }
 },
 "nbformat": 4,
 "nbformat_minor": 5
}
